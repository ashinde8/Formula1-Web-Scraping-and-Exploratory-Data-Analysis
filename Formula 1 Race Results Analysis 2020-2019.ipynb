{
 "cells": [
  {
   "cell_type": "code",
   "execution_count": 1,
   "metadata": {},
   "outputs": [],
   "source": [
    "import pandas as pd\n",
    "import matplotlib.pyplot as plt\n",
    "import seaborn as sns"
   ]
  },
  {
   "cell_type": "code",
   "execution_count": 2,
   "metadata": {},
   "outputs": [],
   "source": [
    "df = pd.read_csv('2019_Race_Results.csv')"
   ]
  },
  {
   "cell_type": "code",
   "execution_count": 3,
   "metadata": {},
   "outputs": [
    {
     "data": {
      "text/html": [
       "<div>\n",
       "<style scoped>\n",
       "    .dataframe tbody tr th:only-of-type {\n",
       "        vertical-align: middle;\n",
       "    }\n",
       "\n",
       "    .dataframe tbody tr th {\n",
       "        vertical-align: top;\n",
       "    }\n",
       "\n",
       "    .dataframe thead th {\n",
       "        text-align: right;\n",
       "    }\n",
       "</style>\n",
       "<table border=\"1\" class=\"dataframe\">\n",
       "  <thead>\n",
       "    <tr style=\"text-align: right;\">\n",
       "      <th></th>\n",
       "      <th>GRAND PRIX</th>\n",
       "      <th>GP_DATE</th>\n",
       "      <th>WINNER</th>\n",
       "      <th>CONSTRUCTOR</th>\n",
       "      <th>LAPS</th>\n",
       "    </tr>\n",
       "  </thead>\n",
       "  <tbody>\n",
       "    <tr>\n",
       "      <th>0</th>\n",
       "      <td>Australia</td>\n",
       "      <td>17 Mar 2019</td>\n",
       "      <td>Bottas</td>\n",
       "      <td>Mercedes</td>\n",
       "      <td>58</td>\n",
       "    </tr>\n",
       "    <tr>\n",
       "      <th>1</th>\n",
       "      <td>Bahrain</td>\n",
       "      <td>31 Mar 2019</td>\n",
       "      <td>Hamilton</td>\n",
       "      <td>Mercedes</td>\n",
       "      <td>57</td>\n",
       "    </tr>\n",
       "    <tr>\n",
       "      <th>2</th>\n",
       "      <td>China</td>\n",
       "      <td>14 Apr 2019</td>\n",
       "      <td>Hamilton</td>\n",
       "      <td>Mercedes</td>\n",
       "      <td>56</td>\n",
       "    </tr>\n",
       "    <tr>\n",
       "      <th>3</th>\n",
       "      <td>Azerbaijan</td>\n",
       "      <td>28 Apr 2019</td>\n",
       "      <td>Bottas</td>\n",
       "      <td>Mercedes</td>\n",
       "      <td>51</td>\n",
       "    </tr>\n",
       "    <tr>\n",
       "      <th>4</th>\n",
       "      <td>Spain</td>\n",
       "      <td>12 May 2019</td>\n",
       "      <td>Hamilton</td>\n",
       "      <td>Mercedes</td>\n",
       "      <td>66</td>\n",
       "    </tr>\n",
       "  </tbody>\n",
       "</table>\n",
       "</div>"
      ],
      "text/plain": [
       "   GRAND PRIX      GP_DATE    WINNER CONSTRUCTOR  LAPS\n",
       "0   Australia  17 Mar 2019    Bottas    Mercedes    58\n",
       "1     Bahrain  31 Mar 2019  Hamilton    Mercedes    57\n",
       "2       China  14 Apr 2019  Hamilton    Mercedes    56\n",
       "3  Azerbaijan  28 Apr 2019    Bottas    Mercedes    51\n",
       "4       Spain  12 May 2019  Hamilton    Mercedes    66"
      ]
     },
     "execution_count": 3,
     "metadata": {},
     "output_type": "execute_result"
    }
   ],
   "source": [
    "df.head()"
   ]
  },
  {
   "cell_type": "code",
   "execution_count": 4,
   "metadata": {},
   "outputs": [
    {
     "data": {
      "text/plain": [
       "(21, 5)"
      ]
     },
     "execution_count": 4,
     "metadata": {},
     "output_type": "execute_result"
    }
   ],
   "source": [
    "df.shape"
   ]
  },
  {
   "cell_type": "code",
   "execution_count": 5,
   "metadata": {},
   "outputs": [
    {
     "data": {
      "text/plain": [
       "GRAND PRIX     0\n",
       "GP_DATE        0\n",
       "WINNER         0\n",
       "CONSTRUCTOR    0\n",
       "LAPS           0\n",
       "dtype: int64"
      ]
     },
     "execution_count": 5,
     "metadata": {},
     "output_type": "execute_result"
    }
   ],
   "source": [
    "df.isnull().sum()"
   ]
  },
  {
   "cell_type": "code",
   "execution_count": null,
   "metadata": {},
   "outputs": [],
   "source": [
    "RBR Renault, Red Bull Racing Renault, Red Bull Racing TAG Heuer, Red Bull Racing Honda\n",
    "\n",
    "Mclaren Mercedes, \n",
    "\n",
    "Mercedes\n",
    "\n",
    "Ferrari\n",
    "\n",
    "Drivers - Hamilton, Verstappen, Vettel, Others\n",
    "Teams - Red Bull Racing , Ferrari, Mercedes, Others\n",
    "Grand Prix - \n"
   ]
  },
  {
   "cell_type": "code",
   "execution_count": 42,
   "metadata": {},
   "outputs": [
    {
     "data": {
      "text/html": [
       "<div>\n",
       "<style scoped>\n",
       "    .dataframe tbody tr th:only-of-type {\n",
       "        vertical-align: middle;\n",
       "    }\n",
       "\n",
       "    .dataframe tbody tr th {\n",
       "        vertical-align: top;\n",
       "    }\n",
       "\n",
       "    .dataframe thead th {\n",
       "        text-align: right;\n",
       "    }\n",
       "</style>\n",
       "<table border=\"1\" class=\"dataframe\">\n",
       "  <thead>\n",
       "    <tr style=\"text-align: right;\">\n",
       "      <th></th>\n",
       "      <th>GRAND PRIX</th>\n",
       "      <th>GP_DATE</th>\n",
       "      <th>WINNER</th>\n",
       "      <th>CONSTRUCTOR</th>\n",
       "      <th>LAPS</th>\n",
       "    </tr>\n",
       "  </thead>\n",
       "  <tbody>\n",
       "    <tr>\n",
       "      <th>0</th>\n",
       "      <td>Bahrain</td>\n",
       "      <td>14 Mar 2010</td>\n",
       "      <td>Alonso</td>\n",
       "      <td>Ferrari</td>\n",
       "      <td>49</td>\n",
       "    </tr>\n",
       "    <tr>\n",
       "      <th>1</th>\n",
       "      <td>Australia</td>\n",
       "      <td>28 Mar 2010</td>\n",
       "      <td>Button</td>\n",
       "      <td>McLaren Mercedes</td>\n",
       "      <td>58</td>\n",
       "    </tr>\n",
       "    <tr>\n",
       "      <th>2</th>\n",
       "      <td>Malaysia</td>\n",
       "      <td>04 Apr 2010</td>\n",
       "      <td>Vettel</td>\n",
       "      <td>RBR Renault</td>\n",
       "      <td>56</td>\n",
       "    </tr>\n",
       "    <tr>\n",
       "      <th>3</th>\n",
       "      <td>China</td>\n",
       "      <td>18 Apr 2010</td>\n",
       "      <td>Button</td>\n",
       "      <td>McLaren Mercedes</td>\n",
       "      <td>56</td>\n",
       "    </tr>\n",
       "    <tr>\n",
       "      <th>4</th>\n",
       "      <td>Spain</td>\n",
       "      <td>09 May 2010</td>\n",
       "      <td>Webber</td>\n",
       "      <td>RBR Renault</td>\n",
       "      <td>66</td>\n",
       "    </tr>\n",
       "    <tr>\n",
       "      <th>5</th>\n",
       "      <td>Monaco</td>\n",
       "      <td>16 May 2010</td>\n",
       "      <td>Webber</td>\n",
       "      <td>RBR Renault</td>\n",
       "      <td>78</td>\n",
       "    </tr>\n",
       "    <tr>\n",
       "      <th>6</th>\n",
       "      <td>Turkey</td>\n",
       "      <td>30 May 2010</td>\n",
       "      <td>Hamilton</td>\n",
       "      <td>McLaren Mercedes</td>\n",
       "      <td>58</td>\n",
       "    </tr>\n",
       "    <tr>\n",
       "      <th>7</th>\n",
       "      <td>Canada</td>\n",
       "      <td>13 Jun 2010</td>\n",
       "      <td>Hamilton</td>\n",
       "      <td>McLaren Mercedes</td>\n",
       "      <td>70</td>\n",
       "    </tr>\n",
       "    <tr>\n",
       "      <th>8</th>\n",
       "      <td>Europe</td>\n",
       "      <td>27 Jun 2010</td>\n",
       "      <td>Vettel</td>\n",
       "      <td>RBR Renault</td>\n",
       "      <td>57</td>\n",
       "    </tr>\n",
       "    <tr>\n",
       "      <th>9</th>\n",
       "      <td>Great Britain</td>\n",
       "      <td>11 Jul 2010</td>\n",
       "      <td>Webber</td>\n",
       "      <td>RBR Renault</td>\n",
       "      <td>52</td>\n",
       "    </tr>\n",
       "    <tr>\n",
       "      <th>10</th>\n",
       "      <td>Germany</td>\n",
       "      <td>25 Jul 2010</td>\n",
       "      <td>Alonso</td>\n",
       "      <td>Ferrari</td>\n",
       "      <td>67</td>\n",
       "    </tr>\n",
       "    <tr>\n",
       "      <th>11</th>\n",
       "      <td>Hungary</td>\n",
       "      <td>01 Aug 2010</td>\n",
       "      <td>Webber</td>\n",
       "      <td>RBR Renault</td>\n",
       "      <td>70</td>\n",
       "    </tr>\n",
       "    <tr>\n",
       "      <th>12</th>\n",
       "      <td>Belgium</td>\n",
       "      <td>29 Aug 2010</td>\n",
       "      <td>Hamilton</td>\n",
       "      <td>McLaren Mercedes</td>\n",
       "      <td>44</td>\n",
       "    </tr>\n",
       "    <tr>\n",
       "      <th>13</th>\n",
       "      <td>Italy</td>\n",
       "      <td>12 Sep 2010</td>\n",
       "      <td>Alonso</td>\n",
       "      <td>Ferrari</td>\n",
       "      <td>53</td>\n",
       "    </tr>\n",
       "    <tr>\n",
       "      <th>14</th>\n",
       "      <td>Singapore</td>\n",
       "      <td>26 Sep 2010</td>\n",
       "      <td>Alonso</td>\n",
       "      <td>Ferrari</td>\n",
       "      <td>61</td>\n",
       "    </tr>\n",
       "    <tr>\n",
       "      <th>15</th>\n",
       "      <td>Japan</td>\n",
       "      <td>10 Oct 2010</td>\n",
       "      <td>Vettel</td>\n",
       "      <td>RBR Renault</td>\n",
       "      <td>53</td>\n",
       "    </tr>\n",
       "    <tr>\n",
       "      <th>16</th>\n",
       "      <td>South Korea</td>\n",
       "      <td>24 Oct 2010</td>\n",
       "      <td>Alonso</td>\n",
       "      <td>Ferrari</td>\n",
       "      <td>55</td>\n",
       "    </tr>\n",
       "    <tr>\n",
       "      <th>17</th>\n",
       "      <td>Brazil</td>\n",
       "      <td>07 Nov 2010</td>\n",
       "      <td>Vettel</td>\n",
       "      <td>RBR Renault</td>\n",
       "      <td>71</td>\n",
       "    </tr>\n",
       "    <tr>\n",
       "      <th>18</th>\n",
       "      <td>Abu Dhabi</td>\n",
       "      <td>14 Nov 2010</td>\n",
       "      <td>Vettel</td>\n",
       "      <td>RBR Renault</td>\n",
       "      <td>55</td>\n",
       "    </tr>\n",
       "  </tbody>\n",
       "</table>\n",
       "</div>"
      ],
      "text/plain": [
       "       GRAND PRIX      GP_DATE    WINNER       CONSTRUCTOR  LAPS\n",
       "0         Bahrain  14 Mar 2010    Alonso           Ferrari    49\n",
       "1       Australia  28 Mar 2010    Button  McLaren Mercedes    58\n",
       "2        Malaysia  04 Apr 2010    Vettel       RBR Renault    56\n",
       "3           China  18 Apr 2010    Button  McLaren Mercedes    56\n",
       "4           Spain  09 May 2010    Webber       RBR Renault    66\n",
       "5          Monaco  16 May 2010    Webber       RBR Renault    78\n",
       "6          Turkey  30 May 2010  Hamilton  McLaren Mercedes    58\n",
       "7          Canada  13 Jun 2010  Hamilton  McLaren Mercedes    70\n",
       "8          Europe  27 Jun 2010    Vettel       RBR Renault    57\n",
       "9   Great Britain  11 Jul 2010    Webber       RBR Renault    52\n",
       "10        Germany  25 Jul 2010    Alonso           Ferrari    67\n",
       "11        Hungary  01 Aug 2010    Webber       RBR Renault    70\n",
       "12        Belgium  29 Aug 2010  Hamilton  McLaren Mercedes    44\n",
       "13          Italy  12 Sep 2010    Alonso           Ferrari    53\n",
       "14      Singapore  26 Sep 2010    Alonso           Ferrari    61\n",
       "15          Japan  10 Oct 2010    Vettel       RBR Renault    53\n",
       "16    South Korea  24 Oct 2010    Alonso           Ferrari    55\n",
       "17         Brazil  07 Nov 2010    Vettel       RBR Renault    71\n",
       "18      Abu Dhabi  14 Nov 2010    Vettel       RBR Renault    55"
      ]
     },
     "execution_count": 42,
     "metadata": {},
     "output_type": "execute_result"
    }
   ],
   "source": [
    "df_2010"
   ]
  },
  {
   "cell_type": "code",
   "execution_count": null,
   "metadata": {},
   "outputs": [],
   "source": [
    "# 2010 to 2019\n",
    "\n",
    "# Merc v/s RBR v/s Ferrari v/s Others\n",
    "# Hamilton v/s Vettel v/s Others\n",
    "# No of Wins in a Season - line graph - Vettel v/s Hamilton"
   ]
  },
  {
   "cell_type": "code",
   "execution_count": null,
   "metadata": {},
   "outputs": [],
   "source": [
    "def grand_prix(year1, year2):\n",
    "    \n",
    "    dataframe = []\n",
    "    \n",
    "    for i in range(year1,year2):\n",
    "        yr_col = []\n",
    "   \n",
    "        RB = ['RBR Renault','Red Bull Racing Renault', 'Red Bull Racing TAG Heuer','Red Bull Racing Honda']\n",
    "        \n",
    "        yrs = str(i)\n",
    "        file_name = yrs + '_Race_Results.csv'\n",
    "        df = pd.read_csv(file_name)\n",
    "        \n",
    "        for i in range(len(df['CONSTRUCTOR'])):\n",
    "            \n",
    "            if df['CONSTRUCTOR'][i] in RB:\n",
    "                df['CONSTRUCTOR'][i] = df['CONSTRUCTOR'][i].replace(df['CONSTRUCTOR'][i],'Red Bull Racing')\n",
    "        \n",
    "        dataframe.append(df)\n",
    "\n",
    "    return dataframe\n",
    "\n",
    "grand_prix(2010,2020)           "
   ]
  },
  {
   "cell_type": "code",
   "execution_count": 58,
   "metadata": {},
   "outputs": [
    {
     "name": "stderr",
     "output_type": "stream",
     "text": [
      "D:\\ANA\\lib\\site-packages\\ipykernel_launcher.py:17: SettingWithCopyWarning: \n",
      "A value is trying to be set on a copy of a slice from a DataFrame\n",
      "\n",
      "See the caveats in the documentation: https://pandas.pydata.org/pandas-docs/stable/user_guide/indexing.html#returning-a-view-versus-a-copy\n"
     ]
    },
    {
     "data": {
      "text/plain": [
       "[       GRAND PRIX      GP_DATE    WINNER       CONSTRUCTOR  LAPS\n",
       " 0         Bahrain  14 Mar 2010    Alonso           Ferrari    49\n",
       " 1       Australia  28 Mar 2010    Button  McLaren Mercedes    58\n",
       " 2        Malaysia  04 Apr 2010    Vettel   Red Bull Racing    56\n",
       " 3           China  18 Apr 2010    Button  McLaren Mercedes    56\n",
       " 4           Spain  09 May 2010    Webber   Red Bull Racing    66\n",
       " 5          Monaco  16 May 2010    Webber   Red Bull Racing    78\n",
       " 6          Turkey  30 May 2010  Hamilton  McLaren Mercedes    58\n",
       " 7          Canada  13 Jun 2010  Hamilton  McLaren Mercedes    70\n",
       " 8          Europe  27 Jun 2010    Vettel   Red Bull Racing    57\n",
       " 9   Great Britain  11 Jul 2010    Webber   Red Bull Racing    52\n",
       " 10        Germany  25 Jul 2010    Alonso           Ferrari    67\n",
       " 11        Hungary  01 Aug 2010    Webber   Red Bull Racing    70\n",
       " 12        Belgium  29 Aug 2010  Hamilton  McLaren Mercedes    44\n",
       " 13          Italy  12 Sep 2010    Alonso           Ferrari    53\n",
       " 14      Singapore  26 Sep 2010    Alonso           Ferrari    61\n",
       " 15          Japan  10 Oct 2010    Vettel   Red Bull Racing    53\n",
       " 16    South Korea  24 Oct 2010    Alonso           Ferrari    55\n",
       " 17         Brazil  07 Nov 2010    Vettel   Red Bull Racing    71\n",
       " 18      Abu Dhabi  14 Nov 2010    Vettel   Red Bull Racing    55,\n",
       "        GRAND PRIX      GP_DATE    WINNER       CONSTRUCTOR  LAPS\n",
       " 0       Australia  27 Mar 2011    Vettel   Red Bull Racing    58\n",
       " 1        Malaysia  10 Apr 2011    Vettel   Red Bull Racing    56\n",
       " 2           China  17 Apr 2011  Hamilton  McLaren Mercedes    56\n",
       " 3          Turkey  08 May 2011    Vettel   Red Bull Racing    58\n",
       " 4           Spain  22 May 2011    Vettel   Red Bull Racing    66\n",
       " 5          Monaco  29 May 2011    Vettel   Red Bull Racing    78\n",
       " 6          Canada  12 Jun 2011    Button  McLaren Mercedes    70\n",
       " 7          Europe  26 Jun 2011    Vettel   Red Bull Racing    57\n",
       " 8   Great Britain  10 Jul 2011    Alonso           Ferrari    52\n",
       " 9         Germany  24 Jul 2011  Hamilton  McLaren Mercedes    60\n",
       " 10        Hungary  31 Jul 2011    Button  McLaren Mercedes    70\n",
       " 11        Belgium  28 Aug 2011    Vettel   Red Bull Racing    44\n",
       " 12          Italy  11 Sep 2011    Vettel   Red Bull Racing    53\n",
       " 13      Singapore  25 Sep 2011    Vettel   Red Bull Racing    61\n",
       " 14          Japan  09 Oct 2011    Button  McLaren Mercedes    53\n",
       " 15    South Korea  16 Oct 2011    Vettel   Red Bull Racing    55\n",
       " 16          India  30 Oct 2011    Vettel   Red Bull Racing    60\n",
       " 17      Abu Dhabi  13 Nov 2011  Hamilton  McLaren Mercedes    55\n",
       " 18         Brazil  27 Nov 2011    Webber   Red Bull Racing    71,\n",
       "        GRAND PRIX      GP_DATE       WINNER       CONSTRUCTOR  LAPS\n",
       " 0       Australia  18 Mar 2012       Button  McLaren Mercedes    58\n",
       " 1        Malaysia  25 Mar 2012       Alonso           Ferrari    56\n",
       " 2           China  15 Apr 2012      Rosberg          Mercedes    56\n",
       " 3         Bahrain  22 Apr 2012       Vettel   Red Bull Racing    57\n",
       " 4           Spain  13 May 2012    Maldonado  Williams Renault    66\n",
       " 5          Monaco  27 May 2012       Webber   Red Bull Racing    78\n",
       " 6          Canada  10 Jun 2012     Hamilton  McLaren Mercedes    70\n",
       " 7          Europe  24 Jun 2012       Alonso           Ferrari    57\n",
       " 8   Great Britain  08 Jul 2012       Webber   Red Bull Racing    52\n",
       " 9         Germany  22 Jul 2012       Alonso           Ferrari    67\n",
       " 10        Hungary  29 Jul 2012     Hamilton  McLaren Mercedes    69\n",
       " 11        Belgium  02 Sep 2012       Button  McLaren Mercedes    44\n",
       " 12          Italy  09 Sep 2012     Hamilton  McLaren Mercedes    53\n",
       " 13      Singapore  23 Sep 2012       Vettel   Red Bull Racing    59\n",
       " 14          Japan  07 Oct 2012       Vettel   Red Bull Racing    53\n",
       " 15    South Korea  14 Oct 2012       Vettel   Red Bull Racing    55\n",
       " 16          India  28 Oct 2012       Vettel   Red Bull Racing    60\n",
       " 17      Abu Dhabi  04 Nov 2012  RÃ¤ikkÃ¶nen     Lotus Renault    55\n",
       " 18  United States  18 Nov 2012     Hamilton  McLaren Mercedes    56\n",
       " 19         Brazil  25 Nov 2012       Button  McLaren Mercedes    71,\n",
       "        GRAND PRIX      GP_DATE       WINNER      CONSTRUCTOR  LAPS\n",
       " 0       Australia  17 Mar 2013  RÃ¤ikkÃ¶nen    Lotus Renault    58\n",
       " 1        Malaysia  24 Mar 2013       Vettel  Red Bull Racing    56\n",
       " 2           China  14 Apr 2013       Alonso          Ferrari    56\n",
       " 3         Bahrain  21 Apr 2013       Vettel  Red Bull Racing    57\n",
       " 4           Spain  12 May 2013       Alonso          Ferrari    66\n",
       " 5          Monaco  26 May 2013      Rosberg         Mercedes    78\n",
       " 6          Canada  09 Jun 2013       Vettel  Red Bull Racing    70\n",
       " 7   Great Britain  30 Jun 2013      Rosberg         Mercedes    52\n",
       " 8         Germany  07 Jul 2013       Vettel  Red Bull Racing    60\n",
       " 9         Hungary  28 Jul 2013     Hamilton         Mercedes    70\n",
       " 10        Belgium  25 Aug 2013       Vettel  Red Bull Racing    44\n",
       " 11          Italy  08 Sep 2013       Vettel  Red Bull Racing    53\n",
       " 12      Singapore  22 Sep 2013       Vettel  Red Bull Racing    61\n",
       " 13    South Korea  06 Oct 2013       Vettel  Red Bull Racing    55\n",
       " 14          Japan  13 Oct 2013       Vettel  Red Bull Racing    53\n",
       " 15          India  27 Oct 2013       Vettel  Red Bull Racing    60\n",
       " 16      Abu Dhabi  03 Nov 2013       Vettel  Red Bull Racing    55\n",
       " 17  United States  17 Nov 2013       Vettel  Red Bull Racing    56\n",
       " 18         Brazil  24 Nov 2013       Vettel  Red Bull Racing    71,\n",
       "        GRAND PRIX      GP_DATE     WINNER      CONSTRUCTOR  LAPS\n",
       " 0       Australia  16 Mar 2014    Rosberg         Mercedes    57\n",
       " 1        Malaysia  30 Mar 2014   Hamilton         Mercedes    56\n",
       " 2         Bahrain  06 Apr 2014   Hamilton         Mercedes    57\n",
       " 3           China  20 Apr 2014   Hamilton         Mercedes    54\n",
       " 4           Spain  11 May 2014   Hamilton         Mercedes    66\n",
       " 5          Monaco  25 May 2014    Rosberg         Mercedes    78\n",
       " 6          Canada  08 Jun 2014  Ricciardo  Red Bull Racing    70\n",
       " 7         Austria  22 Jun 2014    Rosberg         Mercedes    71\n",
       " 8   Great Britain  06 Jul 2014   Hamilton         Mercedes    52\n",
       " 9         Germany  20 Jul 2014    Rosberg         Mercedes    67\n",
       " 10        Hungary  27 Jul 2014  Ricciardo  Red Bull Racing    70\n",
       " 11        Belgium  24 Aug 2014  Ricciardo  Red Bull Racing    44\n",
       " 12          Italy  07 Sep 2014   Hamilton         Mercedes    53\n",
       " 13      Singapore  21 Sep 2014   Hamilton         Mercedes    60\n",
       " 14          Japan  05 Oct 2014   Hamilton         Mercedes    44\n",
       " 15         Russia  21 Oct 2014   Hamilton         Mercedes    53\n",
       " 16  United States  02 Nov 2014   Hamilton         Mercedes    56\n",
       " 17         Brazil  09 Nov 2014    Rosberg         Mercedes    71\n",
       " 18      Abu Dhabi  23 Nov 2014   Hamilton         Mercedes    55,\n",
       "        GRAND PRIX      GP_DATE    WINNER CONSTRUCTOR  LAPS\n",
       " 0       Australia  15 Mar 2015  Hamilton    Mercedes    58\n",
       " 1        Malaysia  29 Mar 2015    Vettel     Ferrari    56\n",
       " 2           China  12 Apr 2015  Hamilton    Mercedes    56\n",
       " 3         Bahrain  19 Apr 2015  Hamilton    Mercedes    57\n",
       " 4           Spain  10 May 2015   Rosberg    Mercedes    66\n",
       " 5          Monaco  24 May 2015   Rosberg    Mercedes    78\n",
       " 6          Canada  07 Jun 2015  Hamilton    Mercedes    70\n",
       " 7         Austria  21 Jun 2015   Rosberg    Mercedes    71\n",
       " 8   Great Britain  05 Jul 2015  Hamilton    Mercedes    52\n",
       " 9         Hungary  26 Jul 2015    Vettel     Ferrari    69\n",
       " 10        Belgium  23 Aug 2015  Hamilton    Mercedes    43\n",
       " 11          Italy  06 Sep 2015  Hamilton    Mercedes    53\n",
       " 12      Singapore  20 Sep 2015    Vettel     Ferrari    61\n",
       " 13          Japan  27 Sep 2015  Hamilton    Mercedes    53\n",
       " 14         Russia  11 Oct 2015  Hamilton    Mercedes    53\n",
       " 15  United States  25 Oct 2015  Hamilton    Mercedes    56\n",
       " 16         Mexico  01 Nov 2015   Rosberg    Mercedes    71\n",
       " 17         Brazil  15 Nov 2015   Rosberg    Mercedes    71\n",
       " 18      Abu Dhabi  29 Nov 2015   Rosberg    Mercedes    55,\n",
       "        GRAND PRIX      GP_DATE      WINNER      CONSTRUCTOR  LAPS\n",
       " 0       Australia  20 Mar 2016     Rosberg         Mercedes    57\n",
       " 1         Bahrain  03 Apr 2016     Rosberg         Mercedes    57\n",
       " 2           China  17 Apr 2016     Rosberg         Mercedes    56\n",
       " 3          Russia  01 May 2016     Rosberg         Mercedes    53\n",
       " 4           Spain  15 May 2016  Verstappen  Red Bull Racing    66\n",
       " 5          Monaco  29 May 2016    Hamilton         Mercedes    78\n",
       " 6          Canada  12 Jun 2016    Hamilton         Mercedes    70\n",
       " 7          Europe  19 Jun 2016     Rosberg         Mercedes    51\n",
       " 8         Austria  03 Jul 2016    Hamilton         Mercedes    71\n",
       " 9   Great Britain  10 Jul 2016    Hamilton         Mercedes    52\n",
       " 10        Hungary  24 Jul 2016    Hamilton         Mercedes    70\n",
       " 11        Germany  31 Jul 2016    Hamilton         Mercedes    67\n",
       " 12        Belgium  28 Aug 2016     Rosberg         Mercedes    44\n",
       " 13          Italy  04 Sep 2016     Rosberg         Mercedes    53\n",
       " 14      Singapore  18 Sep 2016     Rosberg         Mercedes    61\n",
       " 15       Malaysia  02 Oct 2016   Ricciardo  Red Bull Racing    56\n",
       " 16          Japan  09 Oct 2016     Rosberg         Mercedes    53\n",
       " 17  United States  23 Oct 2016    Hamilton         Mercedes    56\n",
       " 18         Mexico  30 Oct 2016    Hamilton         Mercedes    71\n",
       " 19         Brazil  13 Nov 2016    Hamilton         Mercedes    71\n",
       " 20      Abu Dhabi  27 Nov 2016    Hamilton         Mercedes    55,\n",
       "        GRAND PRIX      GP_DATE      WINNER      CONSTRUCTOR  LAPS\n",
       " 0       Australia  26 Mar 2017      Vettel          Ferrari    57\n",
       " 1           China  09 Apr 2017    Hamilton         Mercedes    56\n",
       " 2         Bahrain  16 Apr 2017      Vettel          Ferrari    57\n",
       " 3          Russia  30 Apr 2017      Bottas         Mercedes    52\n",
       " 4           Spain  14 May 2017    Hamilton         Mercedes    66\n",
       " 5          Monaco  28 May 2017      Vettel          Ferrari    78\n",
       " 6          Canada  11 Jun 2017    Hamilton         Mercedes    70\n",
       " 7      Azerbaijan  25 Jun 2017   Ricciardo  Red Bull Racing    51\n",
       " 8         Austria  09 Jul 2017      Bottas         Mercedes    71\n",
       " 9   Great Britain  16 Jul 2017    Hamilton         Mercedes    51\n",
       " 10        Hungary  30 Jul 2017      Vettel          Ferrari    70\n",
       " 11        Belgium  27 Aug 2017    Hamilton         Mercedes    44\n",
       " 12          Italy  03 Sep 2017    Hamilton         Mercedes    53\n",
       " 13      Singapore  17 Sep 2017    Hamilton         Mercedes    58\n",
       " 14       Malaysia  01 Oct 2017  Verstappen  Red Bull Racing    56\n",
       " 15          Japan  08 Oct 2017    Hamilton         Mercedes    53\n",
       " 16  United States  22 Oct 2017    Hamilton         Mercedes    56\n",
       " 17         Mexico  29 Oct 2017  Verstappen  Red Bull Racing    71\n",
       " 18         Brazil  12 Nov 2017      Vettel          Ferrari    71\n",
       " 19      Abu Dhabi  26 Nov 2017      Bottas         Mercedes    55,\n",
       "        GRAND PRIX      GP_DATE       WINNER      CONSTRUCTOR  LAPS\n",
       " 0       Australia  25 Mar 2018       Vettel          Ferrari    58\n",
       " 1         Bahrain  08 Apr 2018       Vettel          Ferrari    57\n",
       " 2           China  15 Apr 2018    Ricciardo  Red Bull Racing    56\n",
       " 3      Azerbaijan  29 Apr 2018     Hamilton         Mercedes    51\n",
       " 4           Spain  13 May 2018     Hamilton         Mercedes    66\n",
       " 5          Monaco  27 May 2018    Ricciardo  Red Bull Racing    78\n",
       " 6          Canada  10 Jun 2018       Vettel          Ferrari    68\n",
       " 7          France  24 Jun 2018     Hamilton         Mercedes    53\n",
       " 8         Austria  01 Jul 2018   Verstappen  Red Bull Racing    71\n",
       " 9   Great Britain  08 Jul 2018       Vettel          Ferrari    52\n",
       " 10        Germany  22 Jul 2018     Hamilton         Mercedes    67\n",
       " 11        Hungary  29 Jul 2018     Hamilton         Mercedes    70\n",
       " 12        Belgium  26 Aug 2018       Vettel          Ferrari    44\n",
       " 13          Italy  02 Sep 2018     Hamilton         Mercedes    53\n",
       " 14      Singapore  16 Sep 2018     Hamilton         Mercedes    61\n",
       " 15         Russia  30 Sep 2018     Hamilton         Mercedes    53\n",
       " 16          Japan  07 Oct 2018     Hamilton         Mercedes    53\n",
       " 17  United States  21 Oct 2018  RÃ¤ikkÃ¶nen          Ferrari    56\n",
       " 18         Mexico  28 Oct 2018   Verstappen  Red Bull Racing    71\n",
       " 19         Brazil  11 Nov 2018     Hamilton         Mercedes    71\n",
       " 20      Abu Dhabi  25 Nov 2018     Hamilton         Mercedes    55,\n",
       "        GRAND PRIX      GP_DATE      WINNER      CONSTRUCTOR  LAPS\n",
       " 0       Australia  17 Mar 2019      Bottas         Mercedes    58\n",
       " 1         Bahrain  31 Mar 2019    Hamilton         Mercedes    57\n",
       " 2           China  14 Apr 2019    Hamilton         Mercedes    56\n",
       " 3      Azerbaijan  28 Apr 2019      Bottas         Mercedes    51\n",
       " 4           Spain  12 May 2019    Hamilton         Mercedes    66\n",
       " 5          Monaco  26 May 2019    Hamilton         Mercedes    78\n",
       " 6          Canada  09 Jun 2019    Hamilton         Mercedes    70\n",
       " 7          France  23 Jun 2019    Hamilton         Mercedes    53\n",
       " 8         Austria  30 Jun 2019  Verstappen  Red Bull Racing    71\n",
       " 9   Great Britain  14 Jul 2019    Hamilton         Mercedes    52\n",
       " 10        Germany  28 Jul 2019  Verstappen  Red Bull Racing    64\n",
       " 11        Hungary  04 Aug 2019    Hamilton         Mercedes    70\n",
       " 12        Belgium  01 Sep 2019     Leclerc          Ferrari    44\n",
       " 13          Italy  08 Sep 2019     Leclerc          Ferrari    53\n",
       " 14      Singapore  22 Sep 2019      Vettel          Ferrari    61\n",
       " 15         Russia  29 Sep 2019    Hamilton         Mercedes    53\n",
       " 16          Japan  13 Oct 2019      Bottas         Mercedes    52\n",
       " 17         Mexico  27 Oct 2019    Hamilton         Mercedes    71\n",
       " 18  United States  03 Nov 2019      Bottas         Mercedes    56\n",
       " 19         Brazil  17 Nov 2019  Verstappen  Red Bull Racing    71\n",
       " 20      Abu Dhabi  01 Dec 2019    Hamilton         Mercedes    55]"
      ]
     },
     "execution_count": 58,
     "metadata": {},
     "output_type": "execute_result"
    }
   ],
   "source": [
    "def grand_prix(year1, year2):\n",
    "    \n",
    "    dataframe = []\n",
    "    \n",
    "    for i in range(year1,year2):\n",
    "        yr_col = []\n",
    "   \n",
    "        RB = ['RBR Renault','Red Bull Racing Renault', 'Red Bull Racing TAG Heuer','Red Bull Racing Honda']\n",
    "        \n",
    "        yrs = str(i)\n",
    "        file_name = yrs + '_Race_Results.csv'\n",
    "        df = pd.read_csv(file_name)\n",
    "        \n",
    "        for i in range(len(df['CONSTRUCTOR'])):\n",
    "            \n",
    "            if df['CONSTRUCTOR'][i] in RB:\n",
    "                df['CONSTRUCTOR'][i] = df['CONSTRUCTOR'][i].replace(df['CONSTRUCTOR'][i],'Red Bull Racing')\n",
    "        \n",
    "        dataframe.append(df)\n",
    "\n",
    "    return dataframe\n",
    "\n",
    "grand_prix(2010,2020)           \n",
    "        "
   ]
  },
  {
   "cell_type": "code",
   "execution_count": 59,
   "metadata": {},
   "outputs": [
    {
     "name": "stderr",
     "output_type": "stream",
     "text": [
      "D:\\ANA\\lib\\site-packages\\ipykernel_launcher.py:17: SettingWithCopyWarning: \n",
      "A value is trying to be set on a copy of a slice from a DataFrame\n",
      "\n",
      "See the caveats in the documentation: https://pandas.pydata.org/pandas-docs/stable/user_guide/indexing.html#returning-a-view-versus-a-copy\n"
     ]
    }
   ],
   "source": [
    "ashu = grand_prix(2010,2020)           "
   ]
  },
  {
   "cell_type": "code",
   "execution_count": 62,
   "metadata": {},
   "outputs": [
    {
     "data": {
      "text/html": [
       "<div>\n",
       "<style scoped>\n",
       "    .dataframe tbody tr th:only-of-type {\n",
       "        vertical-align: middle;\n",
       "    }\n",
       "\n",
       "    .dataframe tbody tr th {\n",
       "        vertical-align: top;\n",
       "    }\n",
       "\n",
       "    .dataframe thead th {\n",
       "        text-align: right;\n",
       "    }\n",
       "</style>\n",
       "<table border=\"1\" class=\"dataframe\">\n",
       "  <thead>\n",
       "    <tr style=\"text-align: right;\">\n",
       "      <th></th>\n",
       "      <th>GRAND PRIX</th>\n",
       "      <th>GP_DATE</th>\n",
       "      <th>WINNER</th>\n",
       "      <th>CONSTRUCTOR</th>\n",
       "      <th>LAPS</th>\n",
       "    </tr>\n",
       "  </thead>\n",
       "  <tbody>\n",
       "    <tr>\n",
       "      <th>0</th>\n",
       "      <td>Australia</td>\n",
       "      <td>17 Mar 2019</td>\n",
       "      <td>Bottas</td>\n",
       "      <td>Mercedes</td>\n",
       "      <td>58</td>\n",
       "    </tr>\n",
       "    <tr>\n",
       "      <th>1</th>\n",
       "      <td>Bahrain</td>\n",
       "      <td>31 Mar 2019</td>\n",
       "      <td>Hamilton</td>\n",
       "      <td>Mercedes</td>\n",
       "      <td>57</td>\n",
       "    </tr>\n",
       "    <tr>\n",
       "      <th>2</th>\n",
       "      <td>China</td>\n",
       "      <td>14 Apr 2019</td>\n",
       "      <td>Hamilton</td>\n",
       "      <td>Mercedes</td>\n",
       "      <td>56</td>\n",
       "    </tr>\n",
       "    <tr>\n",
       "      <th>3</th>\n",
       "      <td>Azerbaijan</td>\n",
       "      <td>28 Apr 2019</td>\n",
       "      <td>Bottas</td>\n",
       "      <td>Mercedes</td>\n",
       "      <td>51</td>\n",
       "    </tr>\n",
       "    <tr>\n",
       "      <th>4</th>\n",
       "      <td>Spain</td>\n",
       "      <td>12 May 2019</td>\n",
       "      <td>Hamilton</td>\n",
       "      <td>Mercedes</td>\n",
       "      <td>66</td>\n",
       "    </tr>\n",
       "    <tr>\n",
       "      <th>5</th>\n",
       "      <td>Monaco</td>\n",
       "      <td>26 May 2019</td>\n",
       "      <td>Hamilton</td>\n",
       "      <td>Mercedes</td>\n",
       "      <td>78</td>\n",
       "    </tr>\n",
       "    <tr>\n",
       "      <th>6</th>\n",
       "      <td>Canada</td>\n",
       "      <td>09 Jun 2019</td>\n",
       "      <td>Hamilton</td>\n",
       "      <td>Mercedes</td>\n",
       "      <td>70</td>\n",
       "    </tr>\n",
       "    <tr>\n",
       "      <th>7</th>\n",
       "      <td>France</td>\n",
       "      <td>23 Jun 2019</td>\n",
       "      <td>Hamilton</td>\n",
       "      <td>Mercedes</td>\n",
       "      <td>53</td>\n",
       "    </tr>\n",
       "    <tr>\n",
       "      <th>8</th>\n",
       "      <td>Austria</td>\n",
       "      <td>30 Jun 2019</td>\n",
       "      <td>Verstappen</td>\n",
       "      <td>Red Bull Racing</td>\n",
       "      <td>71</td>\n",
       "    </tr>\n",
       "    <tr>\n",
       "      <th>9</th>\n",
       "      <td>Great Britain</td>\n",
       "      <td>14 Jul 2019</td>\n",
       "      <td>Hamilton</td>\n",
       "      <td>Mercedes</td>\n",
       "      <td>52</td>\n",
       "    </tr>\n",
       "    <tr>\n",
       "      <th>10</th>\n",
       "      <td>Germany</td>\n",
       "      <td>28 Jul 2019</td>\n",
       "      <td>Verstappen</td>\n",
       "      <td>Red Bull Racing</td>\n",
       "      <td>64</td>\n",
       "    </tr>\n",
       "    <tr>\n",
       "      <th>11</th>\n",
       "      <td>Hungary</td>\n",
       "      <td>04 Aug 2019</td>\n",
       "      <td>Hamilton</td>\n",
       "      <td>Mercedes</td>\n",
       "      <td>70</td>\n",
       "    </tr>\n",
       "    <tr>\n",
       "      <th>12</th>\n",
       "      <td>Belgium</td>\n",
       "      <td>01 Sep 2019</td>\n",
       "      <td>Leclerc</td>\n",
       "      <td>Ferrari</td>\n",
       "      <td>44</td>\n",
       "    </tr>\n",
       "    <tr>\n",
       "      <th>13</th>\n",
       "      <td>Italy</td>\n",
       "      <td>08 Sep 2019</td>\n",
       "      <td>Leclerc</td>\n",
       "      <td>Ferrari</td>\n",
       "      <td>53</td>\n",
       "    </tr>\n",
       "    <tr>\n",
       "      <th>14</th>\n",
       "      <td>Singapore</td>\n",
       "      <td>22 Sep 2019</td>\n",
       "      <td>Vettel</td>\n",
       "      <td>Ferrari</td>\n",
       "      <td>61</td>\n",
       "    </tr>\n",
       "    <tr>\n",
       "      <th>15</th>\n",
       "      <td>Russia</td>\n",
       "      <td>29 Sep 2019</td>\n",
       "      <td>Hamilton</td>\n",
       "      <td>Mercedes</td>\n",
       "      <td>53</td>\n",
       "    </tr>\n",
       "    <tr>\n",
       "      <th>16</th>\n",
       "      <td>Japan</td>\n",
       "      <td>13 Oct 2019</td>\n",
       "      <td>Bottas</td>\n",
       "      <td>Mercedes</td>\n",
       "      <td>52</td>\n",
       "    </tr>\n",
       "    <tr>\n",
       "      <th>17</th>\n",
       "      <td>Mexico</td>\n",
       "      <td>27 Oct 2019</td>\n",
       "      <td>Hamilton</td>\n",
       "      <td>Mercedes</td>\n",
       "      <td>71</td>\n",
       "    </tr>\n",
       "    <tr>\n",
       "      <th>18</th>\n",
       "      <td>United States</td>\n",
       "      <td>03 Nov 2019</td>\n",
       "      <td>Bottas</td>\n",
       "      <td>Mercedes</td>\n",
       "      <td>56</td>\n",
       "    </tr>\n",
       "    <tr>\n",
       "      <th>19</th>\n",
       "      <td>Brazil</td>\n",
       "      <td>17 Nov 2019</td>\n",
       "      <td>Verstappen</td>\n",
       "      <td>Red Bull Racing</td>\n",
       "      <td>71</td>\n",
       "    </tr>\n",
       "    <tr>\n",
       "      <th>20</th>\n",
       "      <td>Abu Dhabi</td>\n",
       "      <td>01 Dec 2019</td>\n",
       "      <td>Hamilton</td>\n",
       "      <td>Mercedes</td>\n",
       "      <td>55</td>\n",
       "    </tr>\n",
       "  </tbody>\n",
       "</table>\n",
       "</div>"
      ],
      "text/plain": [
       "       GRAND PRIX      GP_DATE      WINNER      CONSTRUCTOR  LAPS\n",
       "0       Australia  17 Mar 2019      Bottas         Mercedes    58\n",
       "1         Bahrain  31 Mar 2019    Hamilton         Mercedes    57\n",
       "2           China  14 Apr 2019    Hamilton         Mercedes    56\n",
       "3      Azerbaijan  28 Apr 2019      Bottas         Mercedes    51\n",
       "4           Spain  12 May 2019    Hamilton         Mercedes    66\n",
       "5          Monaco  26 May 2019    Hamilton         Mercedes    78\n",
       "6          Canada  09 Jun 2019    Hamilton         Mercedes    70\n",
       "7          France  23 Jun 2019    Hamilton         Mercedes    53\n",
       "8         Austria  30 Jun 2019  Verstappen  Red Bull Racing    71\n",
       "9   Great Britain  14 Jul 2019    Hamilton         Mercedes    52\n",
       "10        Germany  28 Jul 2019  Verstappen  Red Bull Racing    64\n",
       "11        Hungary  04 Aug 2019    Hamilton         Mercedes    70\n",
       "12        Belgium  01 Sep 2019     Leclerc          Ferrari    44\n",
       "13          Italy  08 Sep 2019     Leclerc          Ferrari    53\n",
       "14      Singapore  22 Sep 2019      Vettel          Ferrari    61\n",
       "15         Russia  29 Sep 2019    Hamilton         Mercedes    53\n",
       "16          Japan  13 Oct 2019      Bottas         Mercedes    52\n",
       "17         Mexico  27 Oct 2019    Hamilton         Mercedes    71\n",
       "18  United States  03 Nov 2019      Bottas         Mercedes    56\n",
       "19         Brazil  17 Nov 2019  Verstappen  Red Bull Racing    71\n",
       "20      Abu Dhabi  01 Dec 2019    Hamilton         Mercedes    55"
      ]
     },
     "execution_count": 62,
     "metadata": {},
     "output_type": "execute_result"
    }
   ],
   "source": [
    "ashu[9]"
   ]
  },
  {
   "cell_type": "code",
   "execution_count": 7,
   "metadata": {},
   "outputs": [],
   "source": [
    "df_2010 = pd.read_csv('2010_Race_Results.csv')"
   ]
  },
  {
   "cell_type": "code",
   "execution_count": 8,
   "metadata": {},
   "outputs": [
    {
     "data": {
      "text/html": [
       "<div>\n",
       "<style scoped>\n",
       "    .dataframe tbody tr th:only-of-type {\n",
       "        vertical-align: middle;\n",
       "    }\n",
       "\n",
       "    .dataframe tbody tr th {\n",
       "        vertical-align: top;\n",
       "    }\n",
       "\n",
       "    .dataframe thead th {\n",
       "        text-align: right;\n",
       "    }\n",
       "</style>\n",
       "<table border=\"1\" class=\"dataframe\">\n",
       "  <thead>\n",
       "    <tr style=\"text-align: right;\">\n",
       "      <th></th>\n",
       "      <th>GRAND PRIX</th>\n",
       "      <th>GP_DATE</th>\n",
       "      <th>WINNER</th>\n",
       "      <th>CONSTRUCTOR</th>\n",
       "      <th>LAPS</th>\n",
       "    </tr>\n",
       "  </thead>\n",
       "  <tbody>\n",
       "    <tr>\n",
       "      <th>0</th>\n",
       "      <td>Bahrain</td>\n",
       "      <td>14 Mar 2010</td>\n",
       "      <td>Alonso</td>\n",
       "      <td>Ferrari</td>\n",
       "      <td>49</td>\n",
       "    </tr>\n",
       "    <tr>\n",
       "      <th>1</th>\n",
       "      <td>Australia</td>\n",
       "      <td>28 Mar 2010</td>\n",
       "      <td>Button</td>\n",
       "      <td>McLaren Mercedes</td>\n",
       "      <td>58</td>\n",
       "    </tr>\n",
       "    <tr>\n",
       "      <th>2</th>\n",
       "      <td>Malaysia</td>\n",
       "      <td>04 Apr 2010</td>\n",
       "      <td>Vettel</td>\n",
       "      <td>RBR Renault</td>\n",
       "      <td>56</td>\n",
       "    </tr>\n",
       "    <tr>\n",
       "      <th>3</th>\n",
       "      <td>China</td>\n",
       "      <td>18 Apr 2010</td>\n",
       "      <td>Button</td>\n",
       "      <td>McLaren Mercedes</td>\n",
       "      <td>56</td>\n",
       "    </tr>\n",
       "    <tr>\n",
       "      <th>4</th>\n",
       "      <td>Spain</td>\n",
       "      <td>09 May 2010</td>\n",
       "      <td>Webber</td>\n",
       "      <td>RBR Renault</td>\n",
       "      <td>66</td>\n",
       "    </tr>\n",
       "    <tr>\n",
       "      <th>5</th>\n",
       "      <td>Monaco</td>\n",
       "      <td>16 May 2010</td>\n",
       "      <td>Webber</td>\n",
       "      <td>RBR Renault</td>\n",
       "      <td>78</td>\n",
       "    </tr>\n",
       "    <tr>\n",
       "      <th>6</th>\n",
       "      <td>Turkey</td>\n",
       "      <td>30 May 2010</td>\n",
       "      <td>Hamilton</td>\n",
       "      <td>McLaren Mercedes</td>\n",
       "      <td>58</td>\n",
       "    </tr>\n",
       "    <tr>\n",
       "      <th>7</th>\n",
       "      <td>Canada</td>\n",
       "      <td>13 Jun 2010</td>\n",
       "      <td>Hamilton</td>\n",
       "      <td>McLaren Mercedes</td>\n",
       "      <td>70</td>\n",
       "    </tr>\n",
       "    <tr>\n",
       "      <th>8</th>\n",
       "      <td>Europe</td>\n",
       "      <td>27 Jun 2010</td>\n",
       "      <td>Vettel</td>\n",
       "      <td>RBR Renault</td>\n",
       "      <td>57</td>\n",
       "    </tr>\n",
       "    <tr>\n",
       "      <th>9</th>\n",
       "      <td>Great Britain</td>\n",
       "      <td>11 Jul 2010</td>\n",
       "      <td>Webber</td>\n",
       "      <td>RBR Renault</td>\n",
       "      <td>52</td>\n",
       "    </tr>\n",
       "    <tr>\n",
       "      <th>10</th>\n",
       "      <td>Germany</td>\n",
       "      <td>25 Jul 2010</td>\n",
       "      <td>Alonso</td>\n",
       "      <td>Ferrari</td>\n",
       "      <td>67</td>\n",
       "    </tr>\n",
       "    <tr>\n",
       "      <th>11</th>\n",
       "      <td>Hungary</td>\n",
       "      <td>01 Aug 2010</td>\n",
       "      <td>Webber</td>\n",
       "      <td>RBR Renault</td>\n",
       "      <td>70</td>\n",
       "    </tr>\n",
       "    <tr>\n",
       "      <th>12</th>\n",
       "      <td>Belgium</td>\n",
       "      <td>29 Aug 2010</td>\n",
       "      <td>Hamilton</td>\n",
       "      <td>McLaren Mercedes</td>\n",
       "      <td>44</td>\n",
       "    </tr>\n",
       "    <tr>\n",
       "      <th>13</th>\n",
       "      <td>Italy</td>\n",
       "      <td>12 Sep 2010</td>\n",
       "      <td>Alonso</td>\n",
       "      <td>Ferrari</td>\n",
       "      <td>53</td>\n",
       "    </tr>\n",
       "    <tr>\n",
       "      <th>14</th>\n",
       "      <td>Singapore</td>\n",
       "      <td>26 Sep 2010</td>\n",
       "      <td>Alonso</td>\n",
       "      <td>Ferrari</td>\n",
       "      <td>61</td>\n",
       "    </tr>\n",
       "    <tr>\n",
       "      <th>15</th>\n",
       "      <td>Japan</td>\n",
       "      <td>10 Oct 2010</td>\n",
       "      <td>Vettel</td>\n",
       "      <td>RBR Renault</td>\n",
       "      <td>53</td>\n",
       "    </tr>\n",
       "    <tr>\n",
       "      <th>16</th>\n",
       "      <td>South Korea</td>\n",
       "      <td>24 Oct 2010</td>\n",
       "      <td>Alonso</td>\n",
       "      <td>Ferrari</td>\n",
       "      <td>55</td>\n",
       "    </tr>\n",
       "    <tr>\n",
       "      <th>17</th>\n",
       "      <td>Brazil</td>\n",
       "      <td>07 Nov 2010</td>\n",
       "      <td>Vettel</td>\n",
       "      <td>RBR Renault</td>\n",
       "      <td>71</td>\n",
       "    </tr>\n",
       "    <tr>\n",
       "      <th>18</th>\n",
       "      <td>Abu Dhabi</td>\n",
       "      <td>14 Nov 2010</td>\n",
       "      <td>Vettel</td>\n",
       "      <td>RBR Renault</td>\n",
       "      <td>55</td>\n",
       "    </tr>\n",
       "  </tbody>\n",
       "</table>\n",
       "</div>"
      ],
      "text/plain": [
       "       GRAND PRIX      GP_DATE    WINNER       CONSTRUCTOR  LAPS\n",
       "0         Bahrain  14 Mar 2010    Alonso           Ferrari    49\n",
       "1       Australia  28 Mar 2010    Button  McLaren Mercedes    58\n",
       "2        Malaysia  04 Apr 2010    Vettel       RBR Renault    56\n",
       "3           China  18 Apr 2010    Button  McLaren Mercedes    56\n",
       "4           Spain  09 May 2010    Webber       RBR Renault    66\n",
       "5          Monaco  16 May 2010    Webber       RBR Renault    78\n",
       "6          Turkey  30 May 2010  Hamilton  McLaren Mercedes    58\n",
       "7          Canada  13 Jun 2010  Hamilton  McLaren Mercedes    70\n",
       "8          Europe  27 Jun 2010    Vettel       RBR Renault    57\n",
       "9   Great Britain  11 Jul 2010    Webber       RBR Renault    52\n",
       "10        Germany  25 Jul 2010    Alonso           Ferrari    67\n",
       "11        Hungary  01 Aug 2010    Webber       RBR Renault    70\n",
       "12        Belgium  29 Aug 2010  Hamilton  McLaren Mercedes    44\n",
       "13          Italy  12 Sep 2010    Alonso           Ferrari    53\n",
       "14      Singapore  26 Sep 2010    Alonso           Ferrari    61\n",
       "15          Japan  10 Oct 2010    Vettel       RBR Renault    53\n",
       "16    South Korea  24 Oct 2010    Alonso           Ferrari    55\n",
       "17         Brazil  07 Nov 2010    Vettel       RBR Renault    71\n",
       "18      Abu Dhabi  14 Nov 2010    Vettel       RBR Renault    55"
      ]
     },
     "execution_count": 8,
     "metadata": {},
     "output_type": "execute_result"
    }
   ],
   "source": [
    "df_2010"
   ]
  },
  {
   "cell_type": "code",
   "execution_count": 38,
   "metadata": {},
   "outputs": [
    {
     "data": {
      "text/plain": [
       "RBR Renault         9\n",
       "Ferrari             5\n",
       "McLaren Mercedes    5\n",
       "Name: CONSTRUCTOR, dtype: int64"
      ]
     },
     "execution_count": 38,
     "metadata": {},
     "output_type": "execute_result"
    }
   ],
   "source": [
    "df_2010['CONSTRUCTOR'].value_counts()"
   ]
  },
  {
   "cell_type": "code",
   "execution_count": 13,
   "metadata": {},
   "outputs": [
    {
     "data": {
      "text/plain": [
       "Vettel      5\n",
       "Alonso      5\n",
       "Webber      4\n",
       "Hamilton    3\n",
       "Button      2\n",
       "Name: WINNER, dtype: int64"
      ]
     },
     "execution_count": 13,
     "metadata": {},
     "output_type": "execute_result"
    }
   ],
   "source": [
    "df_2010['WINNER'].value_counts()"
   ]
  },
  {
   "cell_type": "code",
   "execution_count": 15,
   "metadata": {},
   "outputs": [],
   "source": [
    "values = df_2010['WINNER'].value_counts().keys().tolist()\n",
    "counts = df_2010['WINNER'].value_counts().tolist()"
   ]
  },
  {
   "cell_type": "code",
   "execution_count": 16,
   "metadata": {},
   "outputs": [
    {
     "data": {
      "text/plain": [
       "['Vettel', 'Alonso', 'Webber', 'Hamilton', 'Button']"
      ]
     },
     "execution_count": 16,
     "metadata": {},
     "output_type": "execute_result"
    }
   ],
   "source": [
    "values"
   ]
  },
  {
   "cell_type": "code",
   "execution_count": 19,
   "metadata": {},
   "outputs": [
    {
     "data": {
      "text/plain": [
       "'Vettel'"
      ]
     },
     "execution_count": 19,
     "metadata": {},
     "output_type": "execute_result"
    }
   ],
   "source": [
    "values[0]"
   ]
  },
  {
   "cell_type": "code",
   "execution_count": 17,
   "metadata": {},
   "outputs": [
    {
     "data": {
      "text/plain": [
       "[5, 5, 4, 3, 2]"
      ]
     },
     "execution_count": 17,
     "metadata": {},
     "output_type": "execute_result"
    }
   ],
   "source": [
    "counts"
   ]
  },
  {
   "cell_type": "code",
   "execution_count": 18,
   "metadata": {},
   "outputs": [
    {
     "data": {
      "text/plain": [
       "5"
      ]
     },
     "execution_count": 18,
     "metadata": {},
     "output_type": "execute_result"
    }
   ],
   "source": [
    "len(df_2010['WINNER'].value_counts())"
   ]
  },
  {
   "cell_type": "code",
   "execution_count": 34,
   "metadata": {},
   "outputs": [],
   "source": [
    "dict1 = {}\n",
    "values = df_2010['WINNER'].value_counts().keys().tolist()\n",
    "counts = df_2010['WINNER'].value_counts().tolist()\n",
    "\n",
    "\n",
    "for i in range(len(df_2010['WINNER'].value_counts())):\n",
    "    dict1[values[i]] = counts[i]"
   ]
  },
  {
   "cell_type": "code",
   "execution_count": 35,
   "metadata": {},
   "outputs": [
    {
     "data": {
      "text/plain": [
       "{'Vettel': 5, 'Alonso': 5, 'Webber': 4, 'Hamilton': 3, 'Button': 2}"
      ]
     },
     "execution_count": 35,
     "metadata": {},
     "output_type": "execute_result"
    }
   ],
   "source": [
    "dict1"
   ]
  },
  {
   "cell_type": "code",
   "execution_count": 24,
   "metadata": {},
   "outputs": [],
   "source": [
    "df_2011 = pd.read_csv('2011_Race_Results.csv')"
   ]
  },
  {
   "cell_type": "code",
   "execution_count": 36,
   "metadata": {},
   "outputs": [],
   "source": [
    "#dict = {}\n",
    "values11 = df_2011['WINNER'].value_counts().keys().tolist()\n",
    "counts11 = df_2011['WINNER'].value_counts().tolist()\n",
    "\n",
    "\n",
    "for i in range(len(df_2011['WINNER'].value_counts())):\n",
    "    dict1[values11[i]] = counts11[i]"
   ]
  },
  {
   "cell_type": "code",
   "execution_count": 28,
   "metadata": {},
   "outputs": [
    {
     "data": {
      "text/plain": [
       "{'Vettel': 11, 'Button': 3, 'Hamilton': 3, 'Webber': 1, 'Alonso': 1}"
      ]
     },
     "execution_count": 28,
     "metadata": {},
     "output_type": "execute_result"
    }
   ],
   "source": [
    "dict"
   ]
  },
  {
   "cell_type": "code",
   "execution_count": 29,
   "metadata": {},
   "outputs": [
    {
     "data": {
      "text/plain": [
       "['Vettel', 'Button', 'Hamilton', 'Webber', 'Alonso']"
      ]
     },
     "execution_count": 29,
     "metadata": {},
     "output_type": "execute_result"
    }
   ],
   "source": [
    "values11"
   ]
  },
  {
   "cell_type": "code",
   "execution_count": 30,
   "metadata": {},
   "outputs": [
    {
     "data": {
      "text/plain": [
       "[11, 3, 3, 1, 1]"
      ]
     },
     "execution_count": 30,
     "metadata": {},
     "output_type": "execute_result"
    }
   ],
   "source": [
    "counts11"
   ]
  },
  {
   "cell_type": "code",
   "execution_count": 31,
   "metadata": {},
   "outputs": [
    {
     "data": {
      "text/plain": [
       "Vettel      11\n",
       "Button       3\n",
       "Hamilton     3\n",
       "Webber       1\n",
       "Alonso       1\n",
       "Name: WINNER, dtype: int64"
      ]
     },
     "execution_count": 31,
     "metadata": {},
     "output_type": "execute_result"
    }
   ],
   "source": [
    "df_2011['WINNER'].value_counts()"
   ]
  },
  {
   "cell_type": "code",
   "execution_count": 37,
   "metadata": {},
   "outputs": [
    {
     "data": {
      "text/plain": [
       "{'Vettel': 11, 'Alonso': 1, 'Webber': 1, 'Hamilton': 3, 'Button': 3}"
      ]
     },
     "execution_count": 37,
     "metadata": {},
     "output_type": "execute_result"
    }
   ],
   "source": [
    "dict1"
   ]
  },
  {
   "cell_type": "code",
   "execution_count": null,
   "metadata": {},
   "outputs": [],
   "source": [
    "# VERSTAPPEN FROM 2016"
   ]
  }
 ],
 "metadata": {
  "kernelspec": {
   "display_name": "Python 3",
   "language": "python",
   "name": "python3"
  },
  "language_info": {
   "codemirror_mode": {
    "name": "ipython",
    "version": 3
   },
   "file_extension": ".py",
   "mimetype": "text/x-python",
   "name": "python",
   "nbconvert_exporter": "python",
   "pygments_lexer": "ipython3",
   "version": "3.7.6"
  }
 },
 "nbformat": 4,
 "nbformat_minor": 4
}
